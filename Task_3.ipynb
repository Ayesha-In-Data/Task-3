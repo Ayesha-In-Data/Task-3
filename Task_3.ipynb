{
  "nbformat": 4,
  "nbformat_minor": 0,
  "metadata": {
    "colab": {
      "provenance": []
    },
    "kernelspec": {
      "name": "python3",
      "display_name": "Python 3"
    },
    "language_info": {
      "name": "python"
    }
  },
  "cells": [
    {
      "cell_type": "markdown",
      "source": [
        "# Step 0: Install 🤗 `transformers` & `gradio`"
      ],
      "metadata": {
        "id": "Y23PiFb-lh7Q"
      }
    },
    {
      "cell_type": "code",
      "execution_count": 1,
      "metadata": {
        "id": "RETMwRixlGtm"
      },
      "outputs": [],
      "source": [
        "! pip install transformers gradio -q"
      ]
    },
    {
      "cell_type": "markdown",
      "source": [
        "# Step 1 — Setting up the Chatbot Model - Microsoft GODEL"
      ],
      "metadata": {
        "id": "EZXsjh1Olmt3"
      }
    },
    {
      "cell_type": "code",
      "source": [
        "from transformers import AutoModelForSeq2SeqLM, AutoTokenizer\n",
        "import torch\n",
        "\n",
        "tokenizer = AutoTokenizer.from_pretrained(\"microsoft/GODEL-v1_1-base-seq2seq\")\n",
        "model = AutoModelForSeq2SeqLM.from_pretrained(\"microsoft/GODEL-v1_1-base-seq2seq\")"
      ],
      "metadata": {
        "colab": {
          "base_uri": "https://localhost:8080/"
        },
        "id": "P-WTHMcWlX6k",
        "outputId": "56eec7c9-0542-4d39-d9c1-df23261d9ddd"
      },
      "execution_count": 2,
      "outputs": [
        {
          "output_type": "stream",
          "name": "stderr",
          "text": [
            "/usr/local/lib/python3.10/dist-packages/huggingface_hub/utils/_auth.py:94: UserWarning: \n",
            "The secret `HF_TOKEN` does not exist in your Colab secrets.\n",
            "To authenticate with the Hugging Face Hub, create a token in your settings tab (https://huggingface.co/settings/tokens), set it as secret in your Google Colab and restart your session.\n",
            "You will be able to reuse this secret in all of your notebooks.\n",
            "Please note that authentication is recommended but still optional to access public models or datasets.\n",
            "  warnings.warn(\n"
          ]
        }
      ]
    },
    {
      "cell_type": "markdown",
      "source": [
        "# Step 2 — Defining a `predict` function with `state` and model prediction"
      ],
      "metadata": {
        "id": "bVESAC1tlqHN"
      }
    },
    {
      "cell_type": "code",
      "source": [
        "\n",
        "def predict(input, history=[]):\n",
        "\n",
        "    instruction = 'Instruction: given a dialog context, you need to response empathically'\n",
        "\n",
        "    knowledge = '  '\n",
        "\n",
        "    s = list(sum(history, ()))\n",
        "\n",
        "    s.append(input)\n",
        "\n",
        "    #print(s)\n",
        "\n",
        "    dialog = ' EOS ' .join(s)\n",
        "\n",
        "    #print(dialog)\n",
        "\n",
        "    query = f\"{instruction} [CONTEXT] {dialog} {knowledge}\"\n",
        "\n",
        "    top_p = 0.9\n",
        "    min_length = 8\n",
        "    max_length = 64\n",
        "\n",
        "\n",
        "    # tokenize the new input sentence\n",
        "    new_user_input_ids = tokenizer.encode(f\"{query}\", return_tensors='pt')\n",
        "\n",
        "\n",
        "    output = model.generate(new_user_input_ids, min_length=int(\n",
        "        min_length), max_length=int(max_length), top_p=top_p, do_sample=True).tolist()\n",
        "\n",
        "\n",
        "    response = tokenizer.decode(output[0], skip_special_tokens=True)\n",
        "\n",
        "\n",
        "    history.append((input, response))\n",
        "\n",
        "    return history, history\n",
        ""
      ],
      "metadata": {
        "id": "x1rCy-Qvlanr"
      },
      "execution_count": 3,
      "outputs": []
    },
    {
      "cell_type": "markdown",
      "source": [
        "# Step 3 — Creating a Gradio Chatbot UI"
      ],
      "metadata": {
        "id": "i_3GMa_5lwHz"
      }
    },
    {
      "cell_type": "code",
      "source": [
        "gr.Interface(\n",
        "    fn=predict,\n",
        "    inputs=[gr.Textbox(), \"state\"],  # Textbox for user input and state for conversation history\n",
        "    outputs=[gr.Chatbot(type='messages'), \"state\"],  # Chatbot output with type='messages' and state for conversation history\n",
        ").launch(debug=False, share=True)"
      ],
      "metadata": {
        "colab": {
          "base_uri": "https://localhost:8080/",
          "height": 616
        },
        "id": "QjhK9BzXlZzQ",
        "outputId": "9191c987-2cbd-419c-a9e2-95fe6648f328"
      },
      "execution_count": 8,
      "outputs": [
        {
          "output_type": "stream",
          "name": "stdout",
          "text": [
            "Colab notebook detected. To show errors in colab notebook, set debug=True in launch()\n",
            "\n",
            "Could not create share link. Please check your internet connection or our status page: https://status.gradio.app.\n"
          ]
        },
        {
          "output_type": "stream",
          "name": "stderr",
          "text": [
            "2024/11/28 07:38:09 [W] [service.go:132] login to server failed: session shutdown\n"
          ]
        },
        {
          "output_type": "display_data",
          "data": {
            "text/plain": [
              "<IPython.core.display.Javascript object>"
            ],
            "application/javascript": [
              "(async (port, path, width, height, cache, element) => {\n",
              "                        if (!google.colab.kernel.accessAllowed && !cache) {\n",
              "                            return;\n",
              "                        }\n",
              "                        element.appendChild(document.createTextNode(''));\n",
              "                        const url = await google.colab.kernel.proxyPort(port, {cache});\n",
              "\n",
              "                        const external_link = document.createElement('div');\n",
              "                        external_link.innerHTML = `\n",
              "                            <div style=\"font-family: monospace; margin-bottom: 0.5rem\">\n",
              "                                Running on <a href=${new URL(path, url).toString()} target=\"_blank\">\n",
              "                                    https://localhost:${port}${path}\n",
              "                                </a>\n",
              "                            </div>\n",
              "                        `;\n",
              "                        element.appendChild(external_link);\n",
              "\n",
              "                        const iframe = document.createElement('iframe');\n",
              "                        iframe.src = new URL(path, url).toString();\n",
              "                        iframe.height = height;\n",
              "                        iframe.allow = \"autoplay; camera; microphone; clipboard-read; clipboard-write;\"\n",
              "                        iframe.width = width;\n",
              "                        iframe.style.border = 0;\n",
              "                        element.appendChild(iframe);\n",
              "                    })(7861, \"/\", \"100%\", 500, false, window.element)"
            ]
          },
          "metadata": {}
        },
        {
          "output_type": "execute_result",
          "data": {
            "text/plain": []
          },
          "metadata": {},
          "execution_count": 8
        }
      ]
    },
    {
      "cell_type": "code",
      "source": [],
      "metadata": {
        "id": "42nWvxuZtK19"
      },
      "execution_count": null,
      "outputs": []
    }
  ]
}